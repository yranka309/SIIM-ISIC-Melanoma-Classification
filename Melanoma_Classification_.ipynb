{
  "nbformat": 4,
  "nbformat_minor": 0,
  "metadata": {
    "kernelspec": {
      "name": "python3",
      "display_name": "Python 3",
      "language": "python"
    },
    "language_info": {
      "name": "python",
      "version": "3.7.6",
      "mimetype": "text/x-python",
      "codemirror_mode": {
        "name": "ipython",
        "version": 3
      },
      "pygments_lexer": "ipython3",
      "nbconvert_exporter": "python",
      "file_extension": ".py"
    },
    "colab": {
      "name": "Melanoma Classification .ipynb",
      "provenance": []
    }
  },
  "cells": [
    {
      "cell_type": "code",
      "metadata": {
        "_uuid": "8f2839f25d086af736a60e9eeb907d3b93b6e0e5",
        "_cell_guid": "b1076dfc-b9ad-4769-8c92-a6c4dae69d19",
        "trusted": true,
        "id": "axXt974vwa8j"
      },
      "source": [
        "import numpy as np # linear algebra\n",
        "import pandas as pd # data processing, CSV file I/O (e.g. pd.read_csv)\n",
        "\n",
        "import os\n",
        "for dirname, _, filenames in os.walk('/kaggle/input'):\n",
        "    for filename in filenames:\n",
        "        print(os.path.join(dirname, filename))"
      ],
      "execution_count": null,
      "outputs": []
    },
    {
      "cell_type": "code",
      "metadata": {
        "trusted": true,
        "id": "kVfWvLEHwa8n"
      },
      "source": [
        "import os\n",
        "import re\n",
        "import seaborn as sns\n",
        "import numpy as np\n",
        "import pandas as pd\n",
        "import math\n",
        "\n",
        "from matplotlib import pyplot as plt\n",
        "\n",
        "from sklearn import metrics\n",
        "from sklearn.model_selection import train_test_split\n",
        "\n",
        "import tensorflow as tf\n",
        "import tensorflow.keras.layers as L\n",
        "\n",
        "\n",
        "\n",
        "from kaggle_datasets import KaggleDatasets"
      ],
      "execution_count": null,
      "outputs": []
    },
    {
      "cell_type": "code",
      "metadata": {
        "trusted": true,
        "id": "WgL5RVy5wa8p",
        "outputId": "03b63be0-3efe-4d71-956f-32705cffccbf"
      },
      "source": [
        "try:\n",
        "    # TPU detection. No parameters necessary if TPU_NAME environment variable is\n",
        "    # set: this is always the case on Kaggle.\n",
        "    tpu = tf.distribute.cluster_resolver.TPUClusterResolver()\n",
        "    print('Running on TPU ', tpu.master())\n",
        "except ValueError:\n",
        "    tpu = None\n",
        "\n",
        "if tpu:\n",
        "    tf.config.experimental_connect_to_cluster(tpu)\n",
        "    tf.tpu.experimental.initialize_tpu_system(tpu)\n",
        "    strategy = tf.distribute.experimental.TPUStrategy(tpu)\n",
        "else:\n",
        "    # Default distribution strategy in Tensorflow. Works on CPU and single GPU.\n",
        "    strategy = tf.distribute.get_strategy()\n",
        "\n",
        "print(\"REPLICAS: \", strategy.num_replicas_in_sync)"
      ],
      "execution_count": null,
      "outputs": [
        {
          "output_type": "stream",
          "text": [
            "Running on TPU  grpc://10.0.0.2:8470\n",
            "REPLICAS:  8\n"
          ],
          "name": "stdout"
        }
      ]
    },
    {
      "cell_type": "code",
      "metadata": {
        "trusted": true,
        "id": "v2UwSQCXwa8q"
      },
      "source": [
        "# For tf.dataset\n",
        "AUTO = tf.data.experimental.AUTOTUNE\n",
        "\n",
        "# Data access\n",
        "GCS_PATH = KaggleDatasets().get_gcs_path('siim-isic-melanoma-classification')\n",
        "\n",
        "# Configuration\n",
        "EPOCHS = 10\n",
        "BATCH_SIZE = 8 * strategy.num_replicas_in_sync\n",
        "IMAGE_SIZE = [1024, 1024]\n"
      ],
      "execution_count": null,
      "outputs": []
    },
    {
      "cell_type": "code",
      "metadata": {
        "trusted": true,
        "id": "sUPVFNLhwa8q"
      },
      "source": [
        "def append_path(pre):\n",
        "    return np.vectorize(lambda file: os.path.join(GCS_DS_PATH, pre, file))"
      ],
      "execution_count": null,
      "outputs": []
    },
    {
      "cell_type": "code",
      "metadata": {
        "trusted": true,
        "id": "FMEIxhjkwa8r"
      },
      "source": [
        "# read the training and sample submission files\n",
        "\n",
        "sub = pd.read_csv('/kaggle/input/siim-isic-melanoma-classification/sample_submission.csv')\n",
        "train = pd.read_csv('/kaggle/input/siim-isic-melanoma-classification/train.csv')\n"
      ],
      "execution_count": null,
      "outputs": []
    },
    {
      "cell_type": "code",
      "metadata": {
        "trusted": true,
        "id": "HH8ZMnu6wa8s",
        "outputId": "af239cc1-14aa-4992-c65e-b357bbf89592"
      },
      "source": [
        "sns.countplot(train['target'])"
      ],
      "execution_count": null,
      "outputs": [
        {
          "output_type": "execute_result",
          "data": {
            "text/plain": [
              "<matplotlib.axes._subplots.AxesSubplot at 0x7ff0180983d0>"
            ]
          },
          "metadata": {
            "tags": []
          },
          "execution_count": 6
        },
        {
          "output_type": "display_data",
          "data": {
            "text/plain": [
              "<Figure size 432x288 with 1 Axes>"
            ],
            "image/png": "[encoded data removed]"
          },
          "metadata": {
            "tags": [],
            "needs_background": "light"
          }
        }
      ]
    },
    {
      "cell_type": "code",
      "metadata": {
        "trusted": true,
        "id": "PaxUSTH9wa8s"
      },
      "source": [
        "# getting the training and testing filenames\n",
        "TRAINING_FILENAMES = tf.io.gfile.glob(GCS_PATH + '/tfrecords/train*.tfrec')\n",
        "TEST_FILENAMES = tf.io.gfile.glob(GCS_PATH + '/tfrecords/test*.tfrec')\n",
        "\n",
        "CLASSES = [0,1]"
      ],
      "execution_count": null,
      "outputs": []
    },
    {
      "cell_type": "code",
      "metadata": {
        "trusted": true,
        "id": "LSN3oPLJwa8t",
        "outputId": "ca0fd21f-c0bf-4870-93e5-97eb35cf42d1"
      },
      "source": [
        "#  Lets look at how the training file names look like\n",
        "TRAINING_FILENAMES[:3]"
      ],
      "execution_count": null,
      "outputs": [
        {
          "output_type": "execute_result",
          "data": {
            "text/plain": [
              "['gs://kds-6b72e6412380c1a92b8ed0b30f888a47092033768d05d37a6908cfb0/tfrecords/train00-2071.tfrec',\n",
              " 'gs://kds-6b72e6412380c1a92b8ed0b30f888a47092033768d05d37a6908cfb0/tfrecords/train01-2071.tfrec',\n",
              " 'gs://kds-6b72e6412380c1a92b8ed0b30f888a47092033768d05d37a6908cfb0/tfrecords/train02-2071.tfrec']"
            ]
          },
          "metadata": {
            "tags": []
          },
          "execution_count": 8
        }
      ]
    },
    {
      "cell_type": "code",
      "metadata": {
        "trusted": true,
        "id": "eT00GqQzwa8t",
        "outputId": "09ead80d-5244-44e6-b224-d37342c0b2e8"
      },
      "source": [
        "\n",
        "def decode_image(image_data):\n",
        "    image =  tf.image.decode_jpeg(image_data, channels = 3)\n",
        "    image = tf.cast(image, tf.float32) / 255.0\n",
        "    image = tf.reshape(image, [*IMAGE_SIZE, 3])\n",
        "    return image\n",
        "\n",
        "\n",
        "\n",
        "def read_labeled_tfrecord(example):\n",
        "    LABELED_TFREC_FORMAT = {\n",
        "        \"image\" : tf.io.FixedLenFeature([], tf.string),\n",
        "        \"target\" : tf.io.FixedLenFeature([], tf.int64)\n",
        "    }\n",
        "    \n",
        "    example = tf.io.parse_single_example(example, LABELED_TFREC_FORMAT)\n",
        "    image = decode_image(example['image'])\n",
        "    label = tf.cast(example['target'], tf.int32)\n",
        "    return image, label\n",
        "\n",
        "\n",
        "def read_unlabeled_tfrecord(example):\n",
        "    UNLABELED_TFREC_FORMAT = {\n",
        "        \"image\" : tf.io.FixedLenFeature([], tf.string),\n",
        "        \"image_name\" : tf.io.FixedLenFeature([], tf.string)\n",
        "    }\n",
        "    example = tf.io.parse_single_example(example, UNLABELED_TFREC_FORMAT)\n",
        "    image = decode_image(example['image'])\n",
        "    id_num = example['image_name']\n",
        "    return image, id_num\n",
        "    \n",
        "    \n",
        "def load_dataset(filenames, labeled = True, ordered = False):\n",
        "    \n",
        "    # disregarding  the  data order\n",
        "    ignore_order = tf.data.Options()\n",
        "    \n",
        "    if not ordered:\n",
        "        # disabling the order to increase speed\n",
        "        ignore_order.experimental_deterministic = False\n",
        "        \n",
        "    dataset = tf.data.TFRecordDataset(filenames, num_parallel_reads = AUTO) #automatically reads from different files\n",
        "    dataset =  dataset.with_options(ignore_order) # reads dataset as it comes in rather than its original order\n",
        "    \n",
        "    # returns a dataset of (image,  label) if labele is true else returns (image, id) if unlabeled\n",
        "    dataset  = dataset.map(read_labeled_tfrecord if  labeled else read_unlabeled_tfrecord,\n",
        "                           num_parallel_calls = AUTO)\n",
        "    \n",
        "    return dataset\n",
        "\n",
        "\n",
        "def data_augment(image, label):\n",
        "    # data augmentation. Thanks to the dataset.prefetch(AUTO) statement in the next function (below),\n",
        "    # this happens essentially for free on TPU. Data pipeline code is executed on the \"CPU\" part\n",
        "    # of the TPU while the TPU itself is computing gradients.\n",
        "    image = tf.image.random_flip_left_right(image)\n",
        "    return image, label\n",
        "\n",
        "\n",
        "def get_training_dataset():\n",
        "    dataset = load_dataset(TRAINING_FILENAMES, labeled = True)\n",
        "    dataset = dataset.map(data_augment, num_parallel_calls = AUTO)\n",
        "    dataset = dataset.repeat() # the training  dataset must repeat for several epochs\n",
        "    dataset = dataset.shuffle(2048)\n",
        "    dataset = dataset.batch(BATCH_SIZE)\n",
        "    dataset = dataset.prefetch(AUTO) # prefetch the next batch while training (autotune prefetch buffer size)\n",
        "    return dataset\n",
        "\n",
        "\n",
        "def get_validation_dataset(ordered = False):\n",
        "    dataset = load_dataset(VALIDATION_FILENAMES, labeled = True, ordered = ordered)\n",
        "    dataset =  dataset.batch(BATCH_SIZE)\n",
        "    dataset =  dataset.cache()\n",
        "    dataset = dataset.prefetch(AUTO) # prefetch the next batch while training (autotune prefetch buffer size)\n",
        "    return dataset\n",
        "    \n",
        "    \n",
        "    \n",
        "def get_test_dataset(ordered = False):\n",
        "    dataset = load_dataset(TEST_FILENAMES, labeled = False, ordered = ordered)\n",
        "    dataset =  dataset.batch(BATCH_SIZE)\n",
        "    dataset = dataset.prefetch(AUTO) # prefetch the next batch while training (autotune prefetch buffer size)\n",
        "    return dataset\n",
        "    \n",
        "    \n",
        "    \n",
        "def count_data_items(filenames):\n",
        "    # the number of data items is written in the name of the .tfrec files, i.e. flowers00-230.tfrec = 230 data items\n",
        "    n = [int(re.compile(r\"-([0-9]*)\\.\").search(filename).group(1)) for filename in filenames]\n",
        "    return np.sum(n)\n",
        "    \n",
        "    \n",
        "    \n",
        "NUM_TRAINING_IMAGES = count_data_items(TRAINING_FILENAMES)\n",
        "NUM_TEST_IMAGES = count_data_items(TEST_FILENAMES)\n",
        "STEPS_PER_EPOCH = NUM_TRAINING_IMAGES // BATCH_SIZE\n",
        "print('Dataset: {} training images, {} unlabeled test images'.format(NUM_TRAINING_IMAGES, NUM_TEST_IMAGES))"
      ],
      "execution_count": null,
      "outputs": [
        {
          "output_type": "stream",
          "text": [
            "Dataset: 33126 training images, 10982 unlabeled test images\n"
          ],
          "name": "stdout"
        }
      ]
    },
    {
      "cell_type": "code",
      "metadata": {
        "trusted": true,
        "id": "DZMuoD7gwa8v"
      },
      "source": [
        "def build_lrfn(lr_start=0.00001, lr_max=0.0001, \n",
        "               lr_min=0.000001, lr_rampup_epochs=20, \n",
        "               lr_sustain_epochs=0, lr_exp_decay=.8):\n",
        "    lr_max = lr_max * strategy.num_replicas_in_sync\n",
        "\n",
        "    def lrfn(epoch):\n",
        "        if epoch < lr_rampup_epochs:\n",
        "            lr = (lr_max - lr_start) / lr_rampup_epochs * epoch + lr_start\n",
        "        elif epoch < lr_rampup_epochs + lr_sustain_epochs:\n",
        "            lr = lr_max\n",
        "        else:\n",
        "            lr = (lr_max - lr_min) * lr_exp_decay**(epoch - lr_rampup_epochs - lr_sustain_epochs) + lr_min\n",
        "        return lr\n",
        "    \n",
        "    return lrfn"
      ],
      "execution_count": null,
      "outputs": []
    },
    {
      "cell_type": "code",
      "metadata": {
        "trusted": true,
        "id": "6oyWonoawa8w",
        "outputId": "10b5f5a3-e3bc-4bf2-fc11-06cf3f92c206"
      },
      "source": [
        "with strategy.scope():\n",
        "    model = tf.keras.Sequential([\n",
        "        tf.keras.applications.ResNet50(\n",
        "            weights =  'imagenet',\n",
        "            input_shape  = [*IMAGE_SIZE, 3],\n",
        "            include_top =  False\n",
        "        ),\n",
        "        L.GlobalAveragePooling2D(),\n",
        "        L.Dense(1024, activation = 'relu'), \n",
        "        L.Dropout(0.3), \n",
        "        L.Dense(512, activation= 'relu'), \n",
        "        L.Dropout(0.2), \n",
        "        L.Dense(256, activation='relu'), \n",
        "        L.Dropout(0.2), \n",
        "        L.Dense(128, activation='relu'), \n",
        "        L.Dropout(0.1), \n",
        "        L.Dense(1, activation='sigmoid')\n",
        "        \n",
        "    ]) \n",
        "    \n",
        "    \n",
        "model.compile(loss = tf.keras.losses.BinaryCrossentropy(label_smoothing = 0.1),\n",
        "             metrics = ['accuracy'],\n",
        "             optimizer =  'adam')\n",
        "\n",
        "model.summary()\n",
        "    \n",
        "    "
      ],
      "execution_count": null,
      "outputs": [
        {
          "output_type": "stream",
          "text": [
            "Downloading data from https://storage.googleapis.com/tensorflow/keras-applications/resnet/resnet50_weights_tf_dim_ordering_tf_kernels_notop.h5\n",
            "94773248/94765736 [==============================] - 1s 0us/step\n",
            "Model: \"sequential\"\n",
            "_________________________________________________________________\n",
            "Layer (type)                 Output Shape              Param #   \n",
            "=================================================================\n",
            "resnet50 (Model)             (None, 32, 32, 2048)      23587712  \n",
            "_________________________________________________________________\n",
            "global_average_pooling2d (Gl (None, 2048)              0         \n",
            "_________________________________________________________________\n",
            "dense (Dense)                (None, 1024)              2098176   \n",
            "_________________________________________________________________\n",
            "dropout (Dropout)            (None, 1024)              0         \n",
            "_________________________________________________________________\n",
            "dense_1 (Dense)              (None, 512)               524800    \n",
            "_________________________________________________________________\n",
            "dropout_1 (Dropout)          (None, 512)               0         \n",
            "_________________________________________________________________\n",
            "dense_2 (Dense)              (None, 256)               131328    \n",
            "_________________________________________________________________\n",
            "dropout_2 (Dropout)          (None, 256)               0         \n",
            "_________________________________________________________________\n",
            "dense_3 (Dense)              (None, 128)               32896     \n",
            "_________________________________________________________________\n",
            "dropout_3 (Dropout)          (None, 128)               0         \n",
            "_________________________________________________________________\n",
            "dense_4 (Dense)              (None, 1)                 129       \n",
            "=================================================================\n",
            "Total params: 26,375,041\n",
            "Trainable params: 26,321,921\n",
            "Non-trainable params: 53,120\n",
            "_________________________________________________________________\n"
          ],
          "name": "stdout"
        }
      ]
    },
    {
      "cell_type": "code",
      "metadata": {
        "trusted": true,
        "id": "B9eYF7PQwa8x"
      },
      "source": [
        "lrfn = build_lrfn()\n",
        "lr_schedule = tf.keras.callbacks.LearningRateScheduler(lrfn, verbose=1)\n",
        "STEPS_PER_EPOCH = NUM_TRAINING_IMAGES // BATCH_SIZE"
      ],
      "execution_count": null,
      "outputs": []
    },
    {
      "cell_type": "code",
      "metadata": {
        "trusted": true,
        "id": "Yt-nk-r1wa8x"
      },
      "source": [
        "from keras.optimizers import RMSprop,  Adam, SGD\n",
        "from keras.callbacks import ModelCheckpoint,  EarlyStopping,  ReduceLROnPlateau\n",
        "\n",
        "checkpoint  =  ModelCheckpoint('../input/output/model.h5',\n",
        "                              monitor  =  'val_loss',\n",
        "                              mode =  'min',\n",
        "                              save_best_only =  True,\n",
        "                              verbose = 1)\n",
        "\n",
        "earlystop = EarlyStopping(monitor  = 'val_loss',\n",
        "                         min_delta  =  0,\n",
        "                         patience =  3,\n",
        "                         verbose = 1,\n",
        "                         restore_best_weights =  True)\n",
        "\n",
        "# we put our call backs into a callback list\n",
        "callbacks = [earlystop, checkpoint, lr_schedule]"
      ],
      "execution_count": null,
      "outputs": []
    },
    {
      "cell_type": "code",
      "metadata": {
        "trusted": true,
        "id": "QRX3iyDvwa8y",
        "outputId": "2bcc3d5f-5ffb-4609-f0c2-36e11c0a84a9"
      },
      "source": [
        "STEPS_PER_EPOCH = NUM_TRAINING_IMAGES // BATCH_SIZE\n",
        "\n",
        "history = model.fit(\n",
        "            get_training_dataset(),\n",
        "            epochs = EPOCHS,\n",
        "            steps_per_epoch = STEPS_PER_EPOCH,\n",
        "            callbacks = callbacks,\n",
        "            verbose= 1\n",
        ")"
      ],
      "execution_count": null,
      "outputs": [
        {
          "output_type": "stream",
          "text": [
            "\n",
            "Epoch 00001: LearningRateScheduler reducing learning rate to 1e-05.\n",
            "Epoch 1/10\n",
            "517/517 [==============================] - 237s 458ms/step - accuracy: 0.9788 - loss: 0.2583 - lr: 1.0000e-05\n",
            "\n",
            "Epoch 00002: LearningRateScheduler reducing learning rate to 4.95e-05.\n",
            "Epoch 2/10\n",
            "517/517 [==============================] - 240s 465ms/step - accuracy: 0.9822 - loss: 0.2451 - lr: 4.9500e-05\n",
            "\n",
            "Epoch 00003: LearningRateScheduler reducing learning rate to 8.9e-05.\n",
            "Epoch 3/10\n",
            "517/517 [==============================] - 240s 464ms/step - accuracy: 0.9823 - loss: 0.2438 - lr: 8.9000e-05\n",
            "\n",
            "Epoch 00004: LearningRateScheduler reducing learning rate to 0.0001285.\n",
            "Epoch 4/10\n",
            "517/517 [==============================] - 239s 461ms/step - accuracy: 0.9826 - loss: 0.2423 - lr: 1.2850e-04\n",
            "\n",
            "Epoch 00005: LearningRateScheduler reducing learning rate to 0.000168.\n",
            "Epoch 5/10\n",
            "517/517 [==============================] - 238s 461ms/step - accuracy: 0.9822 - loss: 0.2431 - lr: 1.6800e-04\n",
            "\n",
            "Epoch 00006: LearningRateScheduler reducing learning rate to 0.00020749999999999998.\n",
            "Epoch 6/10\n",
            "517/517 [==============================] - 239s 463ms/step - accuracy: 0.9828 - loss: 0.2411 - lr: 2.0750e-04\n",
            "\n",
            "Epoch 00007: LearningRateScheduler reducing learning rate to 0.000247.\n",
            "Epoch 7/10\n",
            "517/517 [==============================] - 239s 463ms/step - accuracy: 0.9822 - loss: 0.2421 - lr: 2.4700e-04\n",
            "\n",
            "Epoch 00008: LearningRateScheduler reducing learning rate to 0.0002865.\n",
            "Epoch 8/10\n",
            "517/517 [==============================] - 240s 464ms/step - accuracy: 0.9821 - loss: 0.2425 - lr: 2.8650e-04\n",
            "\n",
            "Epoch 00009: LearningRateScheduler reducing learning rate to 0.000326.\n",
            "Epoch 9/10\n",
            "517/517 [==============================] - 239s 462ms/step - accuracy: 0.9824 - loss: 0.2411 - lr: 3.2600e-04\n",
            "\n",
            "Epoch 00010: LearningRateScheduler reducing learning rate to 0.0003655.\n",
            "Epoch 10/10\n",
            "517/517 [==============================] - 238s 460ms/step - accuracy: 0.9827 - loss: 0.2411 - lr: 3.6550e-04\n"
          ],
          "name": "stdout"
        }
      ]
    },
    {
      "cell_type": "code",
      "metadata": {
        "trusted": true,
        "id": "1Cw96A8Kwa8z"
      },
      "source": [
        "model.save('resnet.h5')"
      ],
      "execution_count": null,
      "outputs": []
    },
    {
      "cell_type": "code",
      "metadata": {
        "trusted": true,
        "id": "s-5VUJvMwa8z",
        "outputId": "3df76d60-664a-4386-8233-da14ad17988d"
      },
      "source": [
        "test_ds = get_test_dataset(ordered=True)\n",
        "\n",
        "print('Computing predictions...')\n",
        "test_images_ds = test_ds.map(lambda image, idnum: image)\n",
        "probabilities = model.predict(test_images_ds)"
      ],
      "execution_count": null,
      "outputs": [
        {
          "output_type": "stream",
          "text": [
            "Computing predictions...\n"
          ],
          "name": "stdout"
        }
      ]
    },
    {
      "cell_type": "code",
      "metadata": {
        "trusted": true,
        "id": "VMXxIIy1wa80",
        "outputId": "10424d00-686c-47a1-9a5a-2b5131549105"
      },
      "source": [
        "print('Generating submission.csv file...')\n",
        "test_ids_ds = test_ds.map(lambda image, idnum: idnum).unbatch()\n",
        "test_ids = next(iter(test_ids_ds.batch(NUM_TEST_IMAGES))).numpy().astype('U') # all in one batch"
      ],
      "execution_count": null,
      "outputs": [
        {
          "output_type": "stream",
          "text": [
            "Generating submission.csv file...\n"
          ],
          "name": "stdout"
        }
      ]
    },
    {
      "cell_type": "code",
      "metadata": {
        "trusted": true,
        "id": "5ePqiPZwwa80",
        "outputId": "32dc555f-ed01-4e6e-8c1b-3f0a91cde9b0"
      },
      "source": [
        "pred_df = pd.DataFrame({'image_name': test_ids, 'target': np.concatenate(probabilities)})\n",
        "pred_df.head()"
      ],
      "execution_count": null,
      "outputs": [
        {
          "output_type": "execute_result",
          "data": {
            "text/plain": [
              "     image_name    target\n",
              "0  ISIC_6381819  0.100236\n",
              "1  ISIC_5583376  0.094798\n",
              "2  ISIC_6408546  0.058382\n",
              "3  ISIC_6932354  0.108612\n",
              "4  ISIC_8191278  0.102995"
            ],
            "text/html": [
              "<div>\n",
              "<style scoped>\n",
              "    .dataframe tbody tr th:only-of-type {\n",
              "        vertical-align: middle;\n",
              "    }\n",
              "\n",
              "    .dataframe tbody tr th {\n",
              "        vertical-align: top;\n",
              "    }\n",
              "\n",
              "    .dataframe thead th {\n",
              "        text-align: right;\n",
              "    }\n",
              "</style>\n",
              "<table border=\"1\" class=\"dataframe\">\n",
              "  <thead>\n",
              "    <tr style=\"text-align: right;\">\n",
              "      <th></th>\n",
              "      <th>image_name</th>\n",
              "      <th>target</th>\n",
              "    </tr>\n",
              "  </thead>\n",
              "  <tbody>\n",
              "    <tr>\n",
              "      <th>0</th>\n",
              "      <td>ISIC_6381819</td>\n",
              "      <td>0.100236</td>\n",
              "    </tr>\n",
              "    <tr>\n",
              "      <th>1</th>\n",
              "      <td>ISIC_5583376</td>\n",
              "      <td>0.094798</td>\n",
              "    </tr>\n",
              "    <tr>\n",
              "      <th>2</th>\n",
              "      <td>ISIC_6408546</td>\n",
              "      <td>0.058382</td>\n",
              "    </tr>\n",
              "    <tr>\n",
              "      <th>3</th>\n",
              "      <td>ISIC_6932354</td>\n",
              "      <td>0.108612</td>\n",
              "    </tr>\n",
              "    <tr>\n",
              "      <th>4</th>\n",
              "      <td>ISIC_8191278</td>\n",
              "      <td>0.102995</td>\n",
              "    </tr>\n",
              "  </tbody>\n",
              "</table>\n",
              "</div>"
            ]
          },
          "metadata": {
            "tags": []
          },
          "execution_count": 18
        }
      ]
    },
    {
      "cell_type": "code",
      "metadata": {
        "trusted": true,
        "id": "MljTMRshwa80",
        "outputId": "3373447c-b737-4ecd-85e0-11b242c8dada"
      },
      "source": [
        "sub.head()"
      ],
      "execution_count": null,
      "outputs": [
        {
          "output_type": "execute_result",
          "data": {
            "text/plain": [
              "     image_name  target\n",
              "0  ISIC_0052060       0\n",
              "1  ISIC_0052349       0\n",
              "2  ISIC_0058510       0\n",
              "3  ISIC_0073313       0\n",
              "4  ISIC_0073502       0"
            ],
            "text/html": [
              "<div>\n",
              "<style scoped>\n",
              "    .dataframe tbody tr th:only-of-type {\n",
              "        vertical-align: middle;\n",
              "    }\n",
              "\n",
              "    .dataframe tbody tr th {\n",
              "        vertical-align: top;\n",
              "    }\n",
              "\n",
              "    .dataframe thead th {\n",
              "        text-align: right;\n",
              "    }\n",
              "</style>\n",
              "<table border=\"1\" class=\"dataframe\">\n",
              "  <thead>\n",
              "    <tr style=\"text-align: right;\">\n",
              "      <th></th>\n",
              "      <th>image_name</th>\n",
              "      <th>target</th>\n",
              "    </tr>\n",
              "  </thead>\n",
              "  <tbody>\n",
              "    <tr>\n",
              "      <th>0</th>\n",
              "      <td>ISIC_0052060</td>\n",
              "      <td>0</td>\n",
              "    </tr>\n",
              "    <tr>\n",
              "      <th>1</th>\n",
              "      <td>ISIC_0052349</td>\n",
              "      <td>0</td>\n",
              "    </tr>\n",
              "    <tr>\n",
              "      <th>2</th>\n",
              "      <td>ISIC_0058510</td>\n",
              "      <td>0</td>\n",
              "    </tr>\n",
              "    <tr>\n",
              "      <th>3</th>\n",
              "      <td>ISIC_0073313</td>\n",
              "      <td>0</td>\n",
              "    </tr>\n",
              "    <tr>\n",
              "      <th>4</th>\n",
              "      <td>ISIC_0073502</td>\n",
              "      <td>0</td>\n",
              "    </tr>\n",
              "  </tbody>\n",
              "</table>\n",
              "</div>"
            ]
          },
          "metadata": {
            "tags": []
          },
          "execution_count": 19
        }
      ]
    },
    {
      "cell_type": "code",
      "metadata": {
        "trusted": true,
        "id": "s0lDAZEKwa81",
        "outputId": "71bb0dae-3b32-4fce-9548-2f33914d7f05"
      },
      "source": [
        "del sub['target']\n",
        "sub = sub.merge(pred_df, on='image_name')\n",
        "#sub.to_csv('submission_label_smoothing.csv', index=False)\n",
        "sub.to_csv('submission_b5.csv', index=False)\n",
        "sub.head()"
      ],
      "execution_count": null,
      "outputs": [
        {
          "output_type": "execute_result",
          "data": {
            "text/plain": [
              "     image_name    target\n",
              "0  ISIC_0052060  0.060166\n",
              "1  ISIC_0052349  0.044342\n",
              "2  ISIC_0058510  0.054834\n",
              "3  ISIC_0073313  0.054241\n",
              "4  ISIC_0073502  0.065355"
            ],
            "text/html": [
              "<div>\n",
              "<style scoped>\n",
              "    .dataframe tbody tr th:only-of-type {\n",
              "        vertical-align: middle;\n",
              "    }\n",
              "\n",
              "    .dataframe tbody tr th {\n",
              "        vertical-align: top;\n",
              "    }\n",
              "\n",
              "    .dataframe thead th {\n",
              "        text-align: right;\n",
              "    }\n",
              "</style>\n",
              "<table border=\"1\" class=\"dataframe\">\n",
              "  <thead>\n",
              "    <tr style=\"text-align: right;\">\n",
              "      <th></th>\n",
              "      <th>image_name</th>\n",
              "      <th>target</th>\n",
              "    </tr>\n",
              "  </thead>\n",
              "  <tbody>\n",
              "    <tr>\n",
              "      <th>0</th>\n",
              "      <td>ISIC_0052060</td>\n",
              "      <td>0.060166</td>\n",
              "    </tr>\n",
              "    <tr>\n",
              "      <th>1</th>\n",
              "      <td>ISIC_0052349</td>\n",
              "      <td>0.044342</td>\n",
              "    </tr>\n",
              "    <tr>\n",
              "      <th>2</th>\n",
              "      <td>ISIC_0058510</td>\n",
              "      <td>0.054834</td>\n",
              "    </tr>\n",
              "    <tr>\n",
              "      <th>3</th>\n",
              "      <td>ISIC_0073313</td>\n",
              "      <td>0.054241</td>\n",
              "    </tr>\n",
              "    <tr>\n",
              "      <th>4</th>\n",
              "      <td>ISIC_0073502</td>\n",
              "      <td>0.065355</td>\n",
              "    </tr>\n",
              "  </tbody>\n",
              "</table>\n",
              "</div>"
            ]
          },
          "metadata": {
            "tags": []
          },
          "execution_count": 20
        }
      ]
    }
  ]
}